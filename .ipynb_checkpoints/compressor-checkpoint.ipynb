{
 "cells": [
  {
   "cell_type": "code",
   "execution_count": 43,
   "metadata": {},
   "outputs": [
    {
     "name": "stdout",
     "output_type": "stream",
     "text": [
      "Requirement already satisfied: bitstream in /Users/alanjudi/opt/anaconda3/lib/python3.8/site-packages (2.6.0.1)\r\n"
     ]
    }
   ],
   "source": [
    "!pip3 install bitstream"
   ]
  },
  {
   "cell_type": "code",
   "execution_count": 1,
   "metadata": {},
   "outputs": [
    {
     "data": {
      "text/plain": [
       "[44100, array([-7, -7, -7, ...,  0,  2,  1], dtype=int16)]"
      ]
     },
     "execution_count": 1,
     "metadata": {},
     "output_type": "execute_result"
    }
   ],
   "source": [
    "import io\n",
    "import soundfile as sf\n",
    "import pathlib\n",
    "import sys\n",
    "from scipy.io import wavfile\n",
    "\n",
    "\n",
    "def read_file(path):\n",
    "    samplerate, data = wavfile.read('./Sounds/Sound1.wav')\n",
    "    return [samplerate, data]\n",
    "\n",
    "\n",
    "read_file('Sounds/Sound1.wav')"
   ]
  },
  {
   "cell_type": "code",
   "execution_count": null,
   "metadata": {},
   "outputs": [],
   "source": []
  }
 ],
 "metadata": {
  "kernelspec": {
   "display_name": "Python 3",
   "language": "python",
   "name": "python3"
  },
  "language_info": {
   "codemirror_mode": {
    "name": "ipython",
    "version": 3
   },
   "file_extension": ".py",
   "mimetype": "text/x-python",
   "name": "python",
   "nbconvert_exporter": "python",
   "pygments_lexer": "ipython3",
   "version": "3.8.3"
  }
 },
 "nbformat": 4,
 "nbformat_minor": 4
}
