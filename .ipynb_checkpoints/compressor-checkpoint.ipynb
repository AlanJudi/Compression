{
 "cells": [
  {
   "cell_type": "code",
   "execution_count": 43,
   "metadata": {},
   "outputs": [
    {
     "name": "stdout",
     "output_type": "stream",
     "text": [
      "Requirement already satisfied: bitstream in /Users/alanjudi/opt/anaconda3/lib/python3.8/site-packages (2.6.0.1)\r\n"
     ]
    }
   ],
   "source": [
    "!pip3 install bitstream"
   ]
  },
  {
   "cell_type": "code",
   "execution_count": 45,
   "metadata": {},
   "outputs": [
    {
     "ename": "FileNotFoundError",
     "evalue": "[Errno 2] No such file or directory: '-f'",
     "output_type": "error",
     "traceback": [
      "\u001b[0;31m---------------------------------------------------------------------------\u001b[0m",
      "\u001b[0;31mFileNotFoundError\u001b[0m                         Traceback (most recent call last)",
      "\u001b[0;32m<ipython-input-45-d0f48c084a9b>\u001b[0m in \u001b[0;36m<module>\u001b[0;34m\u001b[0m\n\u001b[1;32m     88\u001b[0m \u001b[0;34m\u001b[0m\u001b[0m\n\u001b[1;32m     89\u001b[0m \u001b[0;32mif\u001b[0m \u001b[0m__name__\u001b[0m \u001b[0;34m==\u001b[0m \u001b[0;34m\"__main__\"\u001b[0m\u001b[0;34m:\u001b[0m\u001b[0;34m\u001b[0m\u001b[0;34m\u001b[0m\u001b[0m\n\u001b[0;32m---> 90\u001b[0;31m     \u001b[0mmain\u001b[0m\u001b[0;34m(\u001b[0m\u001b[0msys\u001b[0m\u001b[0;34m.\u001b[0m\u001b[0margv\u001b[0m\u001b[0;34m)\u001b[0m\u001b[0;34m\u001b[0m\u001b[0;34m\u001b[0m\u001b[0m\n\u001b[0m",
      "\u001b[0;32m<ipython-input-45-d0f48c084a9b>\u001b[0m in \u001b[0;36mmain\u001b[0;34m(argv)\u001b[0m\n\u001b[1;32m      9\u001b[0m     \u001b[0;32mif\u001b[0m \u001b[0mlen\u001b[0m\u001b[0;34m(\u001b[0m\u001b[0margv\u001b[0m\u001b[0;34m)\u001b[0m \u001b[0;34m!=\u001b[0m \u001b[0;36m3\u001b[0m\u001b[0;34m:\u001b[0m\u001b[0;34m\u001b[0m\u001b[0;34m\u001b[0m\u001b[0m\n\u001b[1;32m     10\u001b[0m         \u001b[0msys\u001b[0m\u001b[0;34m.\u001b[0m\u001b[0mexit\u001b[0m\u001b[0;34m(\u001b[0m\u001b[0;34mf\"Usage: python {argv[0]} InFile.wav OutFile.flac\"\u001b[0m\u001b[0;34m)\u001b[0m\u001b[0;34m\u001b[0m\u001b[0;34m\u001b[0m\u001b[0m\n\u001b[0;32m---> 11\u001b[0;31m     \u001b[0;32mwith\u001b[0m \u001b[0mpathlib\u001b[0m\u001b[0;34m.\u001b[0m\u001b[0mPath\u001b[0m\u001b[0;34m(\u001b[0m\u001b[0margv\u001b[0m\u001b[0;34m[\u001b[0m\u001b[0;36m1\u001b[0m\u001b[0;34m]\u001b[0m\u001b[0;34m)\u001b[0m\u001b[0;34m.\u001b[0m\u001b[0mopen\u001b[0m\u001b[0;34m(\u001b[0m\u001b[0;34m\"rb\"\u001b[0m\u001b[0;34m)\u001b[0m \u001b[0;32mas\u001b[0m \u001b[0minp\u001b[0m\u001b[0;34m:\u001b[0m\u001b[0;34m\u001b[0m\u001b[0;34m\u001b[0m\u001b[0m\n\u001b[0m\u001b[1;32m     12\u001b[0m         \u001b[0;32mwith\u001b[0m \u001b[0mBitOutputStream\u001b[0m\u001b[0;34m(\u001b[0m\u001b[0mpathlib\u001b[0m\u001b[0;34m.\u001b[0m\u001b[0mPath\u001b[0m\u001b[0;34m(\u001b[0m\u001b[0margv\u001b[0m\u001b[0;34m[\u001b[0m\u001b[0;36m2\u001b[0m\u001b[0;34m]\u001b[0m\u001b[0;34m)\u001b[0m\u001b[0;34m.\u001b[0m\u001b[0mopen\u001b[0m\u001b[0;34m(\u001b[0m\u001b[0;34m\"wb\"\u001b[0m\u001b[0;34m)\u001b[0m\u001b[0;34m)\u001b[0m \u001b[0;32mas\u001b[0m \u001b[0mout\u001b[0m\u001b[0;34m:\u001b[0m\u001b[0;34m\u001b[0m\u001b[0;34m\u001b[0m\u001b[0m\n\u001b[1;32m     13\u001b[0m             \u001b[0mencode_file\u001b[0m\u001b[0;34m(\u001b[0m\u001b[0minp\u001b[0m\u001b[0;34m,\u001b[0m \u001b[0mout\u001b[0m\u001b[0;34m)\u001b[0m\u001b[0;34m\u001b[0m\u001b[0;34m\u001b[0m\u001b[0m\n",
      "\u001b[0;32m~/opt/anaconda3/lib/python3.8/pathlib.py\u001b[0m in \u001b[0;36mopen\u001b[0;34m(self, mode, buffering, encoding, errors, newline)\u001b[0m\n\u001b[1;32m   1216\u001b[0m         \u001b[0;32mif\u001b[0m \u001b[0mself\u001b[0m\u001b[0;34m.\u001b[0m\u001b[0m_closed\u001b[0m\u001b[0;34m:\u001b[0m\u001b[0;34m\u001b[0m\u001b[0;34m\u001b[0m\u001b[0m\n\u001b[1;32m   1217\u001b[0m             \u001b[0mself\u001b[0m\u001b[0;34m.\u001b[0m\u001b[0m_raise_closed\u001b[0m\u001b[0;34m(\u001b[0m\u001b[0;34m)\u001b[0m\u001b[0;34m\u001b[0m\u001b[0;34m\u001b[0m\u001b[0m\n\u001b[0;32m-> 1218\u001b[0;31m         return io.open(self, mode, buffering, encoding, errors, newline,\n\u001b[0m\u001b[1;32m   1219\u001b[0m                        opener=self._opener)\n\u001b[1;32m   1220\u001b[0m \u001b[0;34m\u001b[0m\u001b[0m\n",
      "\u001b[0;32m~/opt/anaconda3/lib/python3.8/pathlib.py\u001b[0m in \u001b[0;36m_opener\u001b[0;34m(self, name, flags, mode)\u001b[0m\n\u001b[1;32m   1072\u001b[0m     \u001b[0;32mdef\u001b[0m \u001b[0m_opener\u001b[0m\u001b[0;34m(\u001b[0m\u001b[0mself\u001b[0m\u001b[0;34m,\u001b[0m \u001b[0mname\u001b[0m\u001b[0;34m,\u001b[0m \u001b[0mflags\u001b[0m\u001b[0;34m,\u001b[0m \u001b[0mmode\u001b[0m\u001b[0;34m=\u001b[0m\u001b[0;36m0o666\u001b[0m\u001b[0;34m)\u001b[0m\u001b[0;34m:\u001b[0m\u001b[0;34m\u001b[0m\u001b[0;34m\u001b[0m\u001b[0m\n\u001b[1;32m   1073\u001b[0m         \u001b[0;31m# A stub for the opener argument to built-in open()\u001b[0m\u001b[0;34m\u001b[0m\u001b[0;34m\u001b[0m\u001b[0;34m\u001b[0m\u001b[0m\n\u001b[0;32m-> 1074\u001b[0;31m         \u001b[0;32mreturn\u001b[0m \u001b[0mself\u001b[0m\u001b[0;34m.\u001b[0m\u001b[0m_accessor\u001b[0m\u001b[0;34m.\u001b[0m\u001b[0mopen\u001b[0m\u001b[0;34m(\u001b[0m\u001b[0mself\u001b[0m\u001b[0;34m,\u001b[0m \u001b[0mflags\u001b[0m\u001b[0;34m,\u001b[0m \u001b[0mmode\u001b[0m\u001b[0;34m)\u001b[0m\u001b[0;34m\u001b[0m\u001b[0;34m\u001b[0m\u001b[0m\n\u001b[0m\u001b[1;32m   1075\u001b[0m \u001b[0;34m\u001b[0m\u001b[0m\n\u001b[1;32m   1076\u001b[0m     \u001b[0;32mdef\u001b[0m \u001b[0m_raw_open\u001b[0m\u001b[0;34m(\u001b[0m\u001b[0mself\u001b[0m\u001b[0;34m,\u001b[0m \u001b[0mflags\u001b[0m\u001b[0;34m,\u001b[0m \u001b[0mmode\u001b[0m\u001b[0;34m=\u001b[0m\u001b[0;36m0o777\u001b[0m\u001b[0;34m)\u001b[0m\u001b[0;34m:\u001b[0m\u001b[0;34m\u001b[0m\u001b[0;34m\u001b[0m\u001b[0m\n",
      "\u001b[0;31mFileNotFoundError\u001b[0m: [Errno 2] No such file or directory: '-f'"
     ]
    }
   ],
   "source": [
    "import pathlib, sys\n",
    "from BitOut import BitOutputStream\n",
    "from Reader import *\n",
    "\n",
    "\n",
    "BLOCK_SIZE = 4096\n",
    "\n",
    "def main(argv):\n",
    "    if len(argv) != 3:\n",
    "        sys.exit(f\"Usage: python {argv[0]} InFile.wav OutFile.flac\")\n",
    "    with pathlib.Path(argv[1]).open(\"rb\") as inp:\n",
    "        with BitOutputStream(pathlib.Path(argv[2]).open(\"wb\")) as out:\n",
    "            encode_file(inp, out)\n",
    "\n",
    "\n",
    "def encode_file(inp, out):\n",
    "    # Read and parse WAV file headers\n",
    "    def fail_if(cond, msg):\n",
    "        if cond:\n",
    "            raise ValueError(msg)\n",
    "\n",
    "    fail_if(ReadFile(inp, 4) != b\"RIFF\", \"Invalid RIFF file header\")\n",
    "    ReadFileSmallInt(inp, 4)\n",
    "    fail_if(ReadFile(inp, 4) != b\"WAVE\", \"Invalid WAV file header\")\n",
    "    fail_if(ReadFile(inp, 4) != b\"fmt \", \"Unrecognized WAV file chunk\")\n",
    "    fail_if(ReadFileSmallInt(inp, 4) != 16, \"Unsupported WAV file type\")\n",
    "    fail_if(ReadFileSmallInt(inp, 2) != 0x0001, \"Unsupported WAV file codec\")\n",
    "    numchannels = ReadFileSmallInt(inp, 2)\n",
    "    fail_if(not (1 <= numchannels <= 8), \"Too many (or few) audio channels\")\n",
    "    samplerate = ReadFileSmallInt(inp, 4)\n",
    "    fail_if(not (1 <= samplerate < (1 << 20)), \"Sample rate too large or invalid\")\n",
    "    ReadFileSmallInt(inp, 4)\n",
    "    ReadFileSmallInt(inp, 2)\n",
    "    sampledepth = ReadFileSmallInt(inp, 2)\n",
    "    fail_if(sampledepth not in (8,16,24,32), \"Unsupported sample depth\")\n",
    "    fail_if(ReadFile(inp, 4) != b\"data\", \"Unrecognized WAV file chunk\")\n",
    "    sampledatalen = ReadFileSmallInt(inp, 4)\n",
    "    fail_if(sampledatalen <= 0 or sampledatalen % (numchannels * (sampledepth // 8)) != 0, \"Invalid length of audio sample data\")\n",
    "\n",
    "    # Start writing FLAC file header and stream info metadata block\n",
    "    out.write_int(32, 0x664C6143)\n",
    "    out.write_int(1, 1)\n",
    "    out.write_int(7, 0)\n",
    "    out.write_int(24, 34)\n",
    "    out.write_int(16, BLOCK_SIZE)\n",
    "    out.write_int(16, BLOCK_SIZE)\n",
    "    out.write_int(24, 0)\n",
    "    out.write_int(24, 0)\n",
    "    out.write_int(20, samplerate)\n",
    "    out.write_int(3, numchannels - 1)\n",
    "    out.write_int(5, sampledepth - 1)\n",
    "    numsamples = sampledatalen // (numchannels * (sampledepth // 8))\n",
    "    out.write_int(36, numsamples)\n",
    "    for _ in range(16):\n",
    "        out.write_int(8, 0)\n",
    "\n",
    "    # Read raw samples and encode FLAC audio frames\n",
    "    i = 0\n",
    "    while numsamples > 0:\n",
    "        blocksize = min(numsamples, BLOCK_SIZE)\n",
    "        encode_frame(inp, i, numchannels, sampledepth, samplerate, blocksize, out)\n",
    "        numsamples -= blocksize\n",
    "        i += 1\n",
    "\n",
    "\n",
    "def encode_frame(inp, frameindex, numchannels, sampledepth, samplerate, blocksize, out):\n",
    "    bytespersample = sampledepth // 8\n",
    "    samples = [[] for _ in range(numchannels)]\n",
    "    for _ in range(blocksize):\n",
    "        for chansamples in samples:\n",
    "            val = ReadFileSmallInt(inp, bytespersample)\n",
    "            if sampledepth == 8:\n",
    "                val -= 128\n",
    "            else:\n",
    "                val -= (val >> (sampledepth - 1)) << sampledepth\n",
    "            chansamples.append(val)\n",
    "    for sample in chansamples:\n",
    "        print(sample)\n",
    "\n",
    "def encode_subframe(samples, sampledepth, out):\n",
    "    out.write_int(1, 0)\n",
    "    out.write_int(6, 1)  # Verbatim coding\n",
    "    out.write_int(1, 0)\n",
    "    for x in samples:\n",
    "        out.write_int(sampledepth, x)\n",
    "\n",
    "\n",
    "\n",
    "if __name__ == \"__main__\":\n",
    "    main(sys.argv)"
   ]
  },
  {
   "cell_type": "code",
   "execution_count": null,
   "metadata": {},
   "outputs": [],
   "source": []
  }
 ],
 "metadata": {
  "kernelspec": {
   "display_name": "Python 3",
   "language": "python",
   "name": "python3"
  },
  "language_info": {
   "codemirror_mode": {
    "name": "ipython",
    "version": 3
   },
   "file_extension": ".py",
   "mimetype": "text/x-python",
   "name": "python",
   "nbconvert_exporter": "python",
   "pygments_lexer": "ipython3",
   "version": "3.8.3"
  }
 },
 "nbformat": 4,
 "nbformat_minor": 4
}
